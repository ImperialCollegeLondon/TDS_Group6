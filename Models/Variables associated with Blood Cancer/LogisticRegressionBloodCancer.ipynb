{
 "cells": [
  {
   "cell_type": "code",
   "execution_count": 1,
   "metadata": {},
   "outputs": [],
   "source": [
    "#load relevant packages \n",
    "import numpy as np\n",
    "import pandas as pd\n",
    "import sys\n",
    "import sklearn\n",
    "import pyreadr\n",
    "import itertools\n",
    "\n",
    "import matplotlib as mpl\n",
    "from matplotlib import pyplot as plt"
   ]
  },
  {
   "cell_type": "code",
   "execution_count": 2,
   "metadata": {},
   "outputs": [],
   "source": [
    "df = pd.read_csv(\"merged_df.csv\")"
   ]
  },
  {
   "cell_type": "code",
   "execution_count": 4,
   "metadata": {},
   "outputs": [
    {
     "data": {
      "text/plain": [
       "Index(['WBC_count', 'red_blood_cell_count', 'haemoglobin_conc',\n",
       "       'platelet_count', 'lymphocyte_count', 'monocyte_count',\n",
       "       'neutrophil_count', 'eosinophil_count', 'basophil_count',\n",
       "       'nucleated_rbc_count', 'reticulocyte_count', 'mean_cell_volume',\n",
       "       'Smoke_status', 'Ethnicity', 'Alcohol_status', 'BMI',\n",
       "       'Smoke_pack_years', 'Sex', 'deprivation_score', 'Age_recr',\n",
       "       'case_status', 'type', 'cluster', 'date_diagnosis', 'date_death',\n",
       "       'time_to_diagnosis', 'year_diagnosis', 'days_since_diagnosis'],\n",
       "      dtype='object')"
      ]
     },
     "execution_count": 4,
     "metadata": {},
     "output_type": "execute_result"
    }
   ],
   "source": [
    "df.columns"
   ]
  },
  {
   "cell_type": "code",
   "execution_count": 104,
   "metadata": {},
   "outputs": [],
   "source": [
    "df_blood = df.drop([\"type\",\"date_diagnosis\",\"date_death\",\"time_to_diagnosis\",\"year_diagnosis\",\"days_since_diagnosis\",\"cluster\",\"Smoke_pack_years\"],axis=1)\n",
    "from sklearn.linear_model import LogisticRegression\n",
    "df_cluster = df1.drop(['WBC_count', 'red_blood_cell_count', 'haemoglobin_conc',\n",
    "       'platelet_count', 'lymphocyte_count', 'monocyte_count',\n",
    "       'neutrophil_count', 'eosinophil_count', 'basophil_count',\n",
    "       'nucleated_rbc_count', 'reticulocyte_count', 'mean_cell_volume','Smoke_pack_years'],axis=1)"
   ]
  },
  {
   "cell_type": "code",
   "execution_count": 105,
   "metadata": {},
   "outputs": [
    {
     "data": {
      "text/plain": [
       "Index(['WBC_count', 'red_blood_cell_count', 'haemoglobin_conc',\n",
       "       'platelet_count', 'lymphocyte_count', 'monocyte_count',\n",
       "       'neutrophil_count', 'eosinophil_count', 'basophil_count',\n",
       "       'nucleated_rbc_count', 'reticulocyte_count', 'mean_cell_volume',\n",
       "       'Smoke_status', 'Ethnicity', 'Alcohol_status', 'BMI', 'Sex',\n",
       "       'deprivation_score', 'Age_recr', 'case_status'],\n",
       "      dtype='object')"
      ]
     },
     "execution_count": 105,
     "metadata": {},
     "output_type": "execute_result"
    }
   ],
   "source": [
    "df_blood.columns"
   ]
  },
  {
   "cell_type": "code",
   "execution_count": 106,
   "metadata": {},
   "outputs": [
    {
     "data": {
      "text/plain": [
       "Index(['Smoke_status', 'Ethnicity', 'Alcohol_status', 'BMI', 'Sex',\n",
       "       'deprivation_score', 'Age_recr', 'case_status', 'cluster'],\n",
       "      dtype='object')"
      ]
     },
     "execution_count": 106,
     "metadata": {},
     "output_type": "execute_result"
    }
   ],
   "source": [
    "df_cluster.columns"
   ]
  },
  {
   "cell_type": "code",
   "execution_count": 103,
   "metadata": {},
   "outputs": [
    {
     "data": {
      "text/plain": [
       "0    70352\n",
       "1     5036\n",
       "Name: case_status, dtype: int64"
      ]
     },
     "execution_count": 103,
     "metadata": {},
     "output_type": "execute_result"
    }
   ],
   "source": []
  },
  {
   "cell_type": "code",
   "execution_count": 107,
   "metadata": {},
   "outputs": [],
   "source": [
    "df_cluster_logistic = pd.get_dummies(df_cluster, columns=['Smoke_status', 'Ethnicity','Alcohol_status','cluster'],\n",
    "                                     drop_first=True)\n",
    "df_blood_logistic = pd.get_dummies(df_blood,columns=['Smoke_status', 'Ethnicity','Alcohol_status'],\n",
    "                                     drop_first=True)"
   ]
  },
  {
   "cell_type": "code",
   "execution_count": 108,
   "metadata": {},
   "outputs": [],
   "source": [
    "X_cluster = df_cluster_logistic.drop(\"case_status\",axis=1)\n",
    "X_blood = df_blood_logistic.drop(\"case_status\",axis=1)\n",
    "y= df1[\"case_status\"]"
   ]
  },
  {
   "cell_type": "code",
   "execution_count": 109,
   "metadata": {},
   "outputs": [
    {
     "data": {
      "text/html": [
       "<style>#sk-container-id-6 {color: black;background-color: white;}#sk-container-id-6 pre{padding: 0;}#sk-container-id-6 div.sk-toggleable {background-color: white;}#sk-container-id-6 label.sk-toggleable__label {cursor: pointer;display: block;width: 100%;margin-bottom: 0;padding: 0.3em;box-sizing: border-box;text-align: center;}#sk-container-id-6 label.sk-toggleable__label-arrow:before {content: \"▸\";float: left;margin-right: 0.25em;color: #696969;}#sk-container-id-6 label.sk-toggleable__label-arrow:hover:before {color: black;}#sk-container-id-6 div.sk-estimator:hover label.sk-toggleable__label-arrow:before {color: black;}#sk-container-id-6 div.sk-toggleable__content {max-height: 0;max-width: 0;overflow: hidden;text-align: left;background-color: #f0f8ff;}#sk-container-id-6 div.sk-toggleable__content pre {margin: 0.2em;color: black;border-radius: 0.25em;background-color: #f0f8ff;}#sk-container-id-6 input.sk-toggleable__control:checked~div.sk-toggleable__content {max-height: 200px;max-width: 100%;overflow: auto;}#sk-container-id-6 input.sk-toggleable__control:checked~label.sk-toggleable__label-arrow:before {content: \"▾\";}#sk-container-id-6 div.sk-estimator input.sk-toggleable__control:checked~label.sk-toggleable__label {background-color: #d4ebff;}#sk-container-id-6 div.sk-label input.sk-toggleable__control:checked~label.sk-toggleable__label {background-color: #d4ebff;}#sk-container-id-6 input.sk-hidden--visually {border: 0;clip: rect(1px 1px 1px 1px);clip: rect(1px, 1px, 1px, 1px);height: 1px;margin: -1px;overflow: hidden;padding: 0;position: absolute;width: 1px;}#sk-container-id-6 div.sk-estimator {font-family: monospace;background-color: #f0f8ff;border: 1px dotted black;border-radius: 0.25em;box-sizing: border-box;margin-bottom: 0.5em;}#sk-container-id-6 div.sk-estimator:hover {background-color: #d4ebff;}#sk-container-id-6 div.sk-parallel-item::after {content: \"\";width: 100%;border-bottom: 1px solid gray;flex-grow: 1;}#sk-container-id-6 div.sk-label:hover label.sk-toggleable__label {background-color: #d4ebff;}#sk-container-id-6 div.sk-serial::before {content: \"\";position: absolute;border-left: 1px solid gray;box-sizing: border-box;top: 0;bottom: 0;left: 50%;z-index: 0;}#sk-container-id-6 div.sk-serial {display: flex;flex-direction: column;align-items: center;background-color: white;padding-right: 0.2em;padding-left: 0.2em;position: relative;}#sk-container-id-6 div.sk-item {position: relative;z-index: 1;}#sk-container-id-6 div.sk-parallel {display: flex;align-items: stretch;justify-content: center;background-color: white;position: relative;}#sk-container-id-6 div.sk-item::before, #sk-container-id-6 div.sk-parallel-item::before {content: \"\";position: absolute;border-left: 1px solid gray;box-sizing: border-box;top: 0;bottom: 0;left: 50%;z-index: -1;}#sk-container-id-6 div.sk-parallel-item {display: flex;flex-direction: column;z-index: 1;position: relative;background-color: white;}#sk-container-id-6 div.sk-parallel-item:first-child::after {align-self: flex-end;width: 50%;}#sk-container-id-6 div.sk-parallel-item:last-child::after {align-self: flex-start;width: 50%;}#sk-container-id-6 div.sk-parallel-item:only-child::after {width: 0;}#sk-container-id-6 div.sk-dashed-wrapped {border: 1px dashed gray;margin: 0 0.4em 0.5em 0.4em;box-sizing: border-box;padding-bottom: 0.4em;background-color: white;}#sk-container-id-6 div.sk-label label {font-family: monospace;font-weight: bold;display: inline-block;line-height: 1.2em;}#sk-container-id-6 div.sk-label-container {text-align: center;}#sk-container-id-6 div.sk-container {/* jupyter's `normalize.less` sets `[hidden] { display: none; }` but bootstrap.min.css set `[hidden] { display: none !important; }` so we also need the `!important` here to be able to override the default hidden behavior on the sphinx rendered scikit-learn.org. See: https://github.com/scikit-learn/scikit-learn/issues/21755 */display: inline-block !important;position: relative;}#sk-container-id-6 div.sk-text-repr-fallback {display: none;}</style><div id=\"sk-container-id-6\" class=\"sk-top-container\"><div class=\"sk-text-repr-fallback\"><pre>LogisticRegression(max_iter=10000)</pre><b>In a Jupyter environment, please rerun this cell to show the HTML representation or trust the notebook. <br />On GitHub, the HTML representation is unable to render, please try loading this page with nbviewer.org.</b></div><div class=\"sk-container\" hidden><div class=\"sk-item\"><div class=\"sk-estimator sk-toggleable\"><input class=\"sk-toggleable__control sk-hidden--visually\" id=\"sk-estimator-id-6\" type=\"checkbox\" checked><label for=\"sk-estimator-id-6\" class=\"sk-toggleable__label sk-toggleable__label-arrow\">LogisticRegression</label><div class=\"sk-toggleable__content\"><pre>LogisticRegression(max_iter=10000)</pre></div></div></div></div></div>"
      ],
      "text/plain": [
       "LogisticRegression(max_iter=10000)"
      ]
     },
     "execution_count": 109,
     "metadata": {},
     "output_type": "execute_result"
    }
   ],
   "source": [
    "logreg_cluster = LogisticRegression(max_iter=10000)\n",
    "logreg_cluster.fit(X_cluster,y)\n",
    "logreg_blood = LogisticRegression(max_iter=10000)\n",
    "logreg_blood.fit(X_blood,y)"
   ]
  },
  {
   "cell_type": "code",
   "execution_count": 110,
   "metadata": {},
   "outputs": [
    {
     "name": "stdout",
     "output_type": "stream",
     "text": [
      "Optimization terminated successfully.\n",
      "         Current function value: 0.233671\n",
      "         Iterations 8\n",
      "Optimization terminated successfully.\n",
      "         Current function value: 0.231016\n",
      "         Iterations 8\n"
     ]
    }
   ],
   "source": [
    "import statsmodels.api as sm\n",
    "\n",
    "# Add an intercept column to the predictor variables\n",
    "X_cluster = sm.add_constant(X_cluster)\n",
    "X_blood = sm.add_constant(X_blood)\n",
    "\n",
    "# Fit the logistic regression model using statsmodels\n",
    "log_reg_cluster = sm.Logit(y, X_cluster)\n",
    "result_cluster = log_reg_cluster.fit()\n",
    "\n",
    "log_reg_blood = sm.Logit(y, X_blood)\n",
    "result_blood = log_reg_blood.fit()"
   ]
  },
  {
   "cell_type": "code",
   "execution_count": 111,
   "metadata": {},
   "outputs": [
    {
     "data": {
      "text/plain": [
       "const                    7.716934e-25\n",
       "WBC_count                7.875533e-01\n",
       "red_blood_cell_count     4.367382e-01\n",
       "haemoglobin_conc         4.833938e-18\n",
       "platelet_count           2.377291e-06\n",
       "lymphocyte_count         3.910689e-01\n",
       "monocyte_count           4.468762e-01\n",
       "neutrophil_count         8.102731e-01\n",
       "eosinophil_count         3.697966e-02\n",
       "basophil_count           2.765031e-02\n",
       "nucleated_rbc_count      3.335019e-02\n",
       "reticulocyte_count       2.832972e-02\n",
       "mean_cell_volume         8.638251e-01\n",
       "BMI                      2.099614e-05\n",
       "Sex                      8.071895e-62\n",
       "deprivation_score        5.216424e-01\n",
       "Age_recr                1.151077e-267\n",
       "Smoke_status_2           1.067832e-02\n",
       "Smoke_status_3           8.312183e-02\n",
       "Ethnicity_2              7.809629e-01\n",
       "Ethnicity_3              2.753008e-02\n",
       "Ethnicity_4              5.970052e-01\n",
       "Alcohol_status_2         6.552575e-02\n",
       "Alcohol_status_3         8.402429e-01\n",
       "dtype: float64"
      ]
     },
     "execution_count": 111,
     "metadata": {},
     "output_type": "execute_result"
    }
   ],
   "source": [
    "result_blood.pvalues"
   ]
  },
  {
   "cell_type": "code",
   "execution_count": 116,
   "metadata": {},
   "outputs": [
    {
     "data": {
      "text/plain": [
       "const                 0.000000e+00\n",
       "BMI                   4.584368e-04\n",
       "Sex                   1.466861e-24\n",
       "deprivation_score     2.892186e-01\n",
       "Age_recr             1.421084e-282\n",
       "Smoke_status_2        4.285901e-02\n",
       "Smoke_status_3        3.782330e-01\n",
       "Ethnicity_2           6.200999e-01\n",
       "Ethnicity_3           3.877084e-01\n",
       "Ethnicity_4           4.390440e-01\n",
       "Alcohol_status_2      5.502043e-02\n",
       "Alcohol_status_3      6.554833e-01\n",
       "cluster_1             4.224831e-01\n",
       "cluster_2             8.464922e-01\n",
       "cluster_3             2.511487e-01\n",
       "cluster_4             4.188258e-01\n",
       "cluster_5             9.406295e-01\n",
       "dtype: float64"
      ]
     },
     "execution_count": 116,
     "metadata": {},
     "output_type": "execute_result"
    }
   ],
   "source": [
    "result_cluster.pvalues"
   ]
  },
  {
   "cell_type": "code",
   "execution_count": 117,
   "metadata": {},
   "outputs": [],
   "source": [
    "coefs_blood = result_blood.params\n",
    "coefs_cluster = result_cluster.params"
   ]
  },
  {
   "cell_type": "code",
   "execution_count": 118,
   "metadata": {},
   "outputs": [],
   "source": [
    "exp_coefs_blood = coefs_blood.apply(np.exp)\n",
    "exp_coefs_cluster = coefs_cluster.apply(np.exp)"
   ]
  },
  {
   "cell_type": "code",
   "execution_count": 119,
   "metadata": {},
   "outputs": [
    {
     "data": {
      "text/plain": [
       "const                   0.012065\n",
       "WBC_count               0.910132\n",
       "red_blood_cell_count    0.942229\n",
       "haemoglobin_conc        0.797723\n",
       "platelet_count          0.998661\n",
       "lymphocyte_count        1.350492\n",
       "monocyte_count          1.311414\n",
       "neutrophil_count        1.087579\n",
       "eosinophil_count        0.464537\n",
       "basophil_count          0.352908\n",
       "nucleated_rbc_count     0.117059\n",
       "reticulocyte_count      1.969572\n",
       "mean_cell_volume        1.000609\n",
       "BMI                     1.014818\n",
       "Sex                     1.892172\n",
       "deprivation_score       1.000710\n",
       "Age_recr                1.080758\n",
       "Smoke_status_2          0.869162\n",
       "Smoke_status_3          0.908170\n",
       "Ethnicity_2             1.026802\n",
       "Ethnicity_3             0.833203\n",
       "Ethnicity_4             1.047162\n",
       "Alcohol_status_2        1.144338\n",
       "Alcohol_status_3        1.016616\n",
       "dtype: float64"
      ]
     },
     "execution_count": 119,
     "metadata": {},
     "output_type": "execute_result"
    }
   ],
   "source": [
    "exp_coefs_blood"
   ]
  },
  {
   "cell_type": "code",
   "execution_count": 120,
   "metadata": {},
   "outputs": [
    {
     "data": {
      "text/plain": [
       "const                0.000445\n",
       "BMI                  1.011757\n",
       "Sex                  1.363902\n",
       "deprivation_score    1.001167\n",
       "Age_recr             1.081964\n",
       "Smoke_status_2       0.897932\n",
       "Smoke_status_3       0.953355\n",
       "Ethnicity_2          1.047979\n",
       "Ethnicity_3          0.932929\n",
       "Ethnicity_4          1.069326\n",
       "Alcohol_status_2     1.149630\n",
       "Alcohol_status_3     1.036889\n",
       "cluster_1            1.070197\n",
       "cluster_2            1.015975\n",
       "cluster_3            0.911137\n",
       "cluster_4            0.853005\n",
       "cluster_5            0.993516\n",
       "dtype: float64"
      ]
     },
     "execution_count": 120,
     "metadata": {},
     "output_type": "execute_result"
    }
   ],
   "source": [
    "exp_coefs_cluster"
   ]
  },
  {
   "cell_type": "code",
   "execution_count": 121,
   "metadata": {},
   "outputs": [],
   "source": [
    "conf_int_cluster = result_cluster.conf_int()\n",
    "conf_int_blood = result_blood.conf_int()"
   ]
  },
  {
   "cell_type": "code",
   "execution_count": 122,
   "metadata": {},
   "outputs": [],
   "source": [
    "exp_conf_int_blood = conf_int_blood.applymap(np.exp)\n",
    "exp_conf_int_cluster = conf_int_cluster.applymap(np.exp)"
   ]
  },
  {
   "cell_type": "code",
   "execution_count": 123,
   "metadata": {},
   "outputs": [
    {
     "data": {
      "text/html": [
       "<div>\n",
       "<style scoped>\n",
       "    .dataframe tbody tr th:only-of-type {\n",
       "        vertical-align: middle;\n",
       "    }\n",
       "\n",
       "    .dataframe tbody tr th {\n",
       "        vertical-align: top;\n",
       "    }\n",
       "\n",
       "    .dataframe thead th {\n",
       "        text-align: right;\n",
       "    }\n",
       "</style>\n",
       "<table border=\"1\" class=\"dataframe\">\n",
       "  <thead>\n",
       "    <tr style=\"text-align: right;\">\n",
       "      <th></th>\n",
       "      <th>0</th>\n",
       "      <th>1</th>\n",
       "    </tr>\n",
       "  </thead>\n",
       "  <tbody>\n",
       "    <tr>\n",
       "      <th>const</th>\n",
       "      <td>0.005202</td>\n",
       "      <td>0.027983</td>\n",
       "    </tr>\n",
       "    <tr>\n",
       "      <th>WBC_count</th>\n",
       "      <td>0.458856</td>\n",
       "      <td>1.805231</td>\n",
       "    </tr>\n",
       "    <tr>\n",
       "      <th>red_blood_cell_count</th>\n",
       "      <td>0.811012</td>\n",
       "      <td>1.094677</td>\n",
       "    </tr>\n",
       "    <tr>\n",
       "      <th>haemoglobin_conc</th>\n",
       "      <td>0.757935</td>\n",
       "      <td>0.839600</td>\n",
       "    </tr>\n",
       "    <tr>\n",
       "      <th>platelet_count</th>\n",
       "      <td>0.998105</td>\n",
       "      <td>0.999217</td>\n",
       "    </tr>\n",
       "    <tr>\n",
       "      <th>lymphocyte_count</th>\n",
       "      <td>0.679662</td>\n",
       "      <td>2.683433</td>\n",
       "    </tr>\n",
       "    <tr>\n",
       "      <th>monocyte_count</th>\n",
       "      <td>0.652159</td>\n",
       "      <td>2.637097</td>\n",
       "    </tr>\n",
       "    <tr>\n",
       "      <th>neutrophil_count</th>\n",
       "      <td>0.548019</td>\n",
       "      <td>2.158368</td>\n",
       "    </tr>\n",
       "    <tr>\n",
       "      <th>eosinophil_count</th>\n",
       "      <td>0.226025</td>\n",
       "      <td>0.954736</td>\n",
       "    </tr>\n",
       "    <tr>\n",
       "      <th>basophil_count</th>\n",
       "      <td>0.139663</td>\n",
       "      <td>0.891747</td>\n",
       "    </tr>\n",
       "    <tr>\n",
       "      <th>nucleated_rbc_count</th>\n",
       "      <td>0.016230</td>\n",
       "      <td>0.844308</td>\n",
       "    </tr>\n",
       "    <tr>\n",
       "      <th>reticulocyte_count</th>\n",
       "      <td>1.074593</td>\n",
       "      <td>3.609938</td>\n",
       "    </tr>\n",
       "    <tr>\n",
       "      <th>mean_cell_volume</th>\n",
       "      <td>0.993666</td>\n",
       "      <td>1.007601</td>\n",
       "    </tr>\n",
       "    <tr>\n",
       "      <th>BMI</th>\n",
       "      <td>1.007964</td>\n",
       "      <td>1.021718</td>\n",
       "    </tr>\n",
       "    <tr>\n",
       "      <th>Sex</th>\n",
       "      <td>1.754860</td>\n",
       "      <td>2.040228</td>\n",
       "    </tr>\n",
       "    <tr>\n",
       "      <th>deprivation_score</th>\n",
       "      <td>0.998540</td>\n",
       "      <td>1.002885</td>\n",
       "    </tr>\n",
       "    <tr>\n",
       "      <th>Age_recr</th>\n",
       "      <td>1.076062</td>\n",
       "      <td>1.085475</td>\n",
       "    </tr>\n",
       "    <tr>\n",
       "      <th>Smoke_status_2</th>\n",
       "      <td>0.780457</td>\n",
       "      <td>0.967950</td>\n",
       "    </tr>\n",
       "    <tr>\n",
       "      <th>Smoke_status_3</th>\n",
       "      <td>0.814426</td>\n",
       "      <td>1.012704</td>\n",
       "    </tr>\n",
       "    <tr>\n",
       "      <th>Ethnicity_2</th>\n",
       "      <td>0.852161</td>\n",
       "      <td>1.237234</td>\n",
       "    </tr>\n",
       "    <tr>\n",
       "      <th>Ethnicity_3</th>\n",
       "      <td>0.708393</td>\n",
       "      <td>0.980004</td>\n",
       "    </tr>\n",
       "    <tr>\n",
       "      <th>Ethnicity_4</th>\n",
       "      <td>0.882717</td>\n",
       "      <td>1.242241</td>\n",
       "    </tr>\n",
       "    <tr>\n",
       "      <th>Alcohol_status_2</th>\n",
       "      <td>0.991376</td>\n",
       "      <td>1.320901</td>\n",
       "    </tr>\n",
       "    <tr>\n",
       "      <th>Alcohol_status_3</th>\n",
       "      <td>0.866104</td>\n",
       "      <td>1.193285</td>\n",
       "    </tr>\n",
       "  </tbody>\n",
       "</table>\n",
       "</div>"
      ],
      "text/plain": [
       "                             0         1\n",
       "const                 0.005202  0.027983\n",
       "WBC_count             0.458856  1.805231\n",
       "red_blood_cell_count  0.811012  1.094677\n",
       "haemoglobin_conc      0.757935  0.839600\n",
       "platelet_count        0.998105  0.999217\n",
       "lymphocyte_count      0.679662  2.683433\n",
       "monocyte_count        0.652159  2.637097\n",
       "neutrophil_count      0.548019  2.158368\n",
       "eosinophil_count      0.226025  0.954736\n",
       "basophil_count        0.139663  0.891747\n",
       "nucleated_rbc_count   0.016230  0.844308\n",
       "reticulocyte_count    1.074593  3.609938\n",
       "mean_cell_volume      0.993666  1.007601\n",
       "BMI                   1.007964  1.021718\n",
       "Sex                   1.754860  2.040228\n",
       "deprivation_score     0.998540  1.002885\n",
       "Age_recr              1.076062  1.085475\n",
       "Smoke_status_2        0.780457  0.967950\n",
       "Smoke_status_3        0.814426  1.012704\n",
       "Ethnicity_2           0.852161  1.237234\n",
       "Ethnicity_3           0.708393  0.980004\n",
       "Ethnicity_4           0.882717  1.242241\n",
       "Alcohol_status_2      0.991376  1.320901\n",
       "Alcohol_status_3      0.866104  1.193285"
      ]
     },
     "execution_count": 123,
     "metadata": {},
     "output_type": "execute_result"
    }
   ],
   "source": [
    "exp_conf_int_blood"
   ]
  },
  {
   "cell_type": "code",
   "execution_count": 124,
   "metadata": {},
   "outputs": [
    {
     "data": {
      "text/html": [
       "<div>\n",
       "<style scoped>\n",
       "    .dataframe tbody tr th:only-of-type {\n",
       "        vertical-align: middle;\n",
       "    }\n",
       "\n",
       "    .dataframe tbody tr th {\n",
       "        vertical-align: top;\n",
       "    }\n",
       "\n",
       "    .dataframe thead th {\n",
       "        text-align: right;\n",
       "    }\n",
       "</style>\n",
       "<table border=\"1\" class=\"dataframe\">\n",
       "  <thead>\n",
       "    <tr style=\"text-align: right;\">\n",
       "      <th></th>\n",
       "      <th>0</th>\n",
       "      <th>1</th>\n",
       "    </tr>\n",
       "  </thead>\n",
       "  <tbody>\n",
       "    <tr>\n",
       "      <th>const</th>\n",
       "      <td>0.000311</td>\n",
       "      <td>0.000636</td>\n",
       "    </tr>\n",
       "    <tr>\n",
       "      <th>BMI</th>\n",
       "      <td>1.005164</td>\n",
       "      <td>1.018394</td>\n",
       "    </tr>\n",
       "    <tr>\n",
       "      <th>Sex</th>\n",
       "      <td>1.285163</td>\n",
       "      <td>1.447465</td>\n",
       "    </tr>\n",
       "    <tr>\n",
       "      <th>deprivation_score</th>\n",
       "      <td>0.999010</td>\n",
       "      <td>1.003328</td>\n",
       "    </tr>\n",
       "    <tr>\n",
       "      <th>Age_recr</th>\n",
       "      <td>1.077323</td>\n",
       "      <td>1.086624</td>\n",
       "    </tr>\n",
       "    <tr>\n",
       "      <th>Smoke_status_2</th>\n",
       "      <td>0.809078</td>\n",
       "      <td>0.996544</td>\n",
       "    </tr>\n",
       "    <tr>\n",
       "      <th>Smoke_status_3</th>\n",
       "      <td>0.857258</td>\n",
       "      <td>1.060226</td>\n",
       "    </tr>\n",
       "    <tr>\n",
       "      <th>Ethnicity_2</th>\n",
       "      <td>0.870726</td>\n",
       "      <td>1.261315</td>\n",
       "    </tr>\n",
       "    <tr>\n",
       "      <th>Ethnicity_3</th>\n",
       "      <td>0.796956</td>\n",
       "      <td>1.092103</td>\n",
       "    </tr>\n",
       "    <tr>\n",
       "      <th>Ethnicity_4</th>\n",
       "      <td>0.902356</td>\n",
       "      <td>1.267192</td>\n",
       "    </tr>\n",
       "    <tr>\n",
       "      <th>Alcohol_status_2</th>\n",
       "      <td>0.997007</td>\n",
       "      <td>1.325617</td>\n",
       "    </tr>\n",
       "    <tr>\n",
       "      <th>Alcohol_status_3</th>\n",
       "      <td>0.884342</td>\n",
       "      <td>1.215750</td>\n",
       "    </tr>\n",
       "    <tr>\n",
       "      <th>cluster_1</th>\n",
       "      <td>0.906713</td>\n",
       "      <td>1.263157</td>\n",
       "    </tr>\n",
       "    <tr>\n",
       "      <th>cluster_2</th>\n",
       "      <td>0.865366</td>\n",
       "      <td>1.192795</td>\n",
       "    </tr>\n",
       "    <tr>\n",
       "      <th>cluster_3</th>\n",
       "      <td>0.777240</td>\n",
       "      <td>1.068100</td>\n",
       "    </tr>\n",
       "    <tr>\n",
       "      <th>cluster_4</th>\n",
       "      <td>0.580171</td>\n",
       "      <td>1.254143</td>\n",
       "    </tr>\n",
       "    <tr>\n",
       "      <th>cluster_5</th>\n",
       "      <td>0.837198</td>\n",
       "      <td>1.179021</td>\n",
       "    </tr>\n",
       "  </tbody>\n",
       "</table>\n",
       "</div>"
      ],
      "text/plain": [
       "                          0         1\n",
       "const              0.000311  0.000636\n",
       "BMI                1.005164  1.018394\n",
       "Sex                1.285163  1.447465\n",
       "deprivation_score  0.999010  1.003328\n",
       "Age_recr           1.077323  1.086624\n",
       "Smoke_status_2     0.809078  0.996544\n",
       "Smoke_status_3     0.857258  1.060226\n",
       "Ethnicity_2        0.870726  1.261315\n",
       "Ethnicity_3        0.796956  1.092103\n",
       "Ethnicity_4        0.902356  1.267192\n",
       "Alcohol_status_2   0.997007  1.325617\n",
       "Alcohol_status_3   0.884342  1.215750\n",
       "cluster_1          0.906713  1.263157\n",
       "cluster_2          0.865366  1.192795\n",
       "cluster_3          0.777240  1.068100\n",
       "cluster_4          0.580171  1.254143\n",
       "cluster_5          0.837198  1.179021"
      ]
     },
     "execution_count": 124,
     "metadata": {},
     "output_type": "execute_result"
    }
   ],
   "source": [
    "exp_conf_int_cluster"
   ]
  },
  {
   "cell_type": "code",
   "execution_count": 72,
   "metadata": {},
   "outputs": [
    {
     "data": {
      "text/plain": [
       "const                    8.413454e-15\n",
       "WBC_count                6.616414e-01\n",
       "red_blood_cell_count     5.914219e-01\n",
       "haemoglobin_conc         1.989443e-17\n",
       "platelet_count           5.273117e-07\n",
       "lymphocyte_count         3.317437e-01\n",
       "monocyte_count           5.124052e-01\n",
       "neutrophil_count         7.456317e-01\n",
       "eosinophil_count         9.427299e-03\n",
       "basophil_count           1.855639e-03\n",
       "nucleated_rbc_count      3.171106e-02\n",
       "reticulocyte_count       1.456943e-01\n",
       "mean_cell_volume         5.015309e-01\n",
       "BMI                      1.447658e-01\n",
       "Smoke_pack_years        1.031180e-260\n",
       "Sex                      2.079986e-43\n",
       "deprivation_score        4.910591e-02\n",
       "Age_recr                1.914551e-187\n",
       "Smoke_status_2           1.463341e-11\n",
       "Smoke_status_3           1.741737e-02\n",
       "Ethnicity_2              9.360116e-01\n",
       "Ethnicity_3              1.384120e-01\n",
       "Ethnicity_4              4.259178e-01\n",
       "Alcohol_status_2         3.016174e-01\n",
       "Alcohol_status_3         2.179131e-01\n",
       "cluster_1                7.029302e-01\n",
       "cluster_2                8.217482e-02\n",
       "cluster_3                8.375860e-03\n",
       "cluster_4                1.933987e-01\n",
       "cluster_5                7.243112e-01\n",
       "dtype: float64"
      ]
     },
     "execution_count": 72,
     "metadata": {},
     "output_type": "execute_result"
    }
   ],
   "source": [
    "pvals"
   ]
  },
  {
   "cell_type": "code",
   "execution_count": 70,
   "metadata": {},
   "outputs": [],
   "source": [
    "# Merge the DataFrame and Series\n",
    "result_df = pd.concat([exp_coefs,exp_conf_int, pvals], axis=1)\n",
    "\n",
    "# Rename the columns\n",
    "result_df.columns = ['Coefficient', 'P-value', 'Lower CI', 'Upper CI']"
   ]
  },
  {
   "cell_type": "code",
   "execution_count": 71,
   "metadata": {},
   "outputs": [
    {
     "data": {
      "text/html": [
       "<div>\n",
       "<style scoped>\n",
       "    .dataframe tbody tr th:only-of-type {\n",
       "        vertical-align: middle;\n",
       "    }\n",
       "\n",
       "    .dataframe tbody tr th {\n",
       "        vertical-align: top;\n",
       "    }\n",
       "\n",
       "    .dataframe thead th {\n",
       "        text-align: right;\n",
       "    }\n",
       "</style>\n",
       "<table border=\"1\" class=\"dataframe\">\n",
       "  <thead>\n",
       "    <tr style=\"text-align: right;\">\n",
       "      <th></th>\n",
       "      <th>Coefficient</th>\n",
       "      <th>P-value</th>\n",
       "      <th>Lower CI</th>\n",
       "      <th>Upper CI</th>\n",
       "    </tr>\n",
       "  </thead>\n",
       "  <tbody>\n",
       "    <tr>\n",
       "      <th>const</th>\n",
       "      <td>0.030043</td>\n",
       "      <td>0.012397</td>\n",
       "      <td>0.072805</td>\n",
       "      <td>8.413454e-15</td>\n",
       "    </tr>\n",
       "    <tr>\n",
       "      <th>WBC_count</th>\n",
       "      <td>0.852898</td>\n",
       "      <td>0.418240</td>\n",
       "      <td>1.739275</td>\n",
       "      <td>6.616414e-01</td>\n",
       "    </tr>\n",
       "    <tr>\n",
       "      <th>red_blood_cell_count</th>\n",
       "      <td>0.959313</td>\n",
       "      <td>0.824311</td>\n",
       "      <td>1.116425</td>\n",
       "      <td>5.914219e-01</td>\n",
       "    </tr>\n",
       "    <tr>\n",
       "      <th>haemoglobin_conc</th>\n",
       "      <td>0.799091</td>\n",
       "      <td>0.758790</td>\n",
       "      <td>0.841532</td>\n",
       "      <td>1.989443e-17</td>\n",
       "    </tr>\n",
       "    <tr>\n",
       "      <th>platelet_count</th>\n",
       "      <td>0.998554</td>\n",
       "      <td>0.997989</td>\n",
       "      <td>0.999119</td>\n",
       "      <td>5.273117e-07</td>\n",
       "    </tr>\n",
       "    <tr>\n",
       "      <th>lymphocyte_count</th>\n",
       "      <td>1.424428</td>\n",
       "      <td>0.697255</td>\n",
       "      <td>2.909973</td>\n",
       "      <td>3.317437e-01</td>\n",
       "    </tr>\n",
       "    <tr>\n",
       "      <th>monocyte_count</th>\n",
       "      <td>1.274883</td>\n",
       "      <td>0.616477</td>\n",
       "      <td>2.636478</td>\n",
       "      <td>5.124052e-01</td>\n",
       "    </tr>\n",
       "    <tr>\n",
       "      <th>neutrophil_count</th>\n",
       "      <td>1.125290</td>\n",
       "      <td>0.551492</td>\n",
       "      <td>2.296093</td>\n",
       "      <td>7.456317e-01</td>\n",
       "    </tr>\n",
       "    <tr>\n",
       "      <th>eosinophil_count</th>\n",
       "      <td>0.365243</td>\n",
       "      <td>0.170747</td>\n",
       "      <td>0.781286</td>\n",
       "      <td>9.427299e-03</td>\n",
       "    </tr>\n",
       "    <tr>\n",
       "      <th>basophil_count</th>\n",
       "      <td>0.100293</td>\n",
       "      <td>0.023569</td>\n",
       "      <td>0.426772</td>\n",
       "      <td>1.855639e-03</td>\n",
       "    </tr>\n",
       "    <tr>\n",
       "      <th>nucleated_rbc_count</th>\n",
       "      <td>0.006899</td>\n",
       "      <td>0.000074</td>\n",
       "      <td>0.646812</td>\n",
       "      <td>3.171106e-02</td>\n",
       "    </tr>\n",
       "    <tr>\n",
       "      <th>reticulocyte_count</th>\n",
       "      <td>1.622344</td>\n",
       "      <td>0.845379</td>\n",
       "      <td>3.113399</td>\n",
       "      <td>1.456943e-01</td>\n",
       "    </tr>\n",
       "    <tr>\n",
       "      <th>mean_cell_volume</th>\n",
       "      <td>0.997569</td>\n",
       "      <td>0.990513</td>\n",
       "      <td>1.004675</td>\n",
       "      <td>5.015309e-01</td>\n",
       "    </tr>\n",
       "    <tr>\n",
       "      <th>BMI</th>\n",
       "      <td>1.005214</td>\n",
       "      <td>0.998212</td>\n",
       "      <td>1.012265</td>\n",
       "      <td>1.447658e-01</td>\n",
       "    </tr>\n",
       "    <tr>\n",
       "      <th>Smoke_pack_years</th>\n",
       "      <td>1.028778</td>\n",
       "      <td>1.027121</td>\n",
       "      <td>1.030438</td>\n",
       "      <td>1.031180e-260</td>\n",
       "    </tr>\n",
       "    <tr>\n",
       "      <th>Sex</th>\n",
       "      <td>1.716039</td>\n",
       "      <td>1.589474</td>\n",
       "      <td>1.852682</td>\n",
       "      <td>2.079986e-43</td>\n",
       "    </tr>\n",
       "    <tr>\n",
       "      <th>deprivation_score</th>\n",
       "      <td>0.997774</td>\n",
       "      <td>0.995561</td>\n",
       "      <td>0.999991</td>\n",
       "      <td>4.910591e-02</td>\n",
       "    </tr>\n",
       "    <tr>\n",
       "      <th>Age_recr</th>\n",
       "      <td>1.068652</td>\n",
       "      <td>1.063900</td>\n",
       "      <td>1.073425</td>\n",
       "      <td>1.914551e-187</td>\n",
       "    </tr>\n",
       "    <tr>\n",
       "      <th>Smoke_status_2</th>\n",
       "      <td>1.489153</td>\n",
       "      <td>1.326584</td>\n",
       "      <td>1.671643</td>\n",
       "      <td>1.463341e-11</td>\n",
       "    </tr>\n",
       "    <tr>\n",
       "      <th>Smoke_status_3</th>\n",
       "      <td>1.146456</td>\n",
       "      <td>1.024307</td>\n",
       "      <td>1.283172</td>\n",
       "      <td>1.741737e-02</td>\n",
       "    </tr>\n",
       "    <tr>\n",
       "      <th>Ethnicity_2</th>\n",
       "      <td>1.007808</td>\n",
       "      <td>0.833516</td>\n",
       "      <td>1.218545</td>\n",
       "      <td>9.360116e-01</td>\n",
       "    </tr>\n",
       "    <tr>\n",
       "      <th>Ethnicity_3</th>\n",
       "      <td>0.883329</td>\n",
       "      <td>0.749646</td>\n",
       "      <td>1.040852</td>\n",
       "      <td>1.384120e-01</td>\n",
       "    </tr>\n",
       "    <tr>\n",
       "      <th>Ethnicity_4</th>\n",
       "      <td>1.072942</td>\n",
       "      <td>0.902211</td>\n",
       "      <td>1.275981</td>\n",
       "      <td>4.259178e-01</td>\n",
       "    </tr>\n",
       "    <tr>\n",
       "      <th>Alcohol_status_2</th>\n",
       "      <td>1.079767</td>\n",
       "      <td>0.933447</td>\n",
       "      <td>1.249023</td>\n",
       "      <td>3.016174e-01</td>\n",
       "    </tr>\n",
       "    <tr>\n",
       "      <th>Alcohol_status_3</th>\n",
       "      <td>0.901966</td>\n",
       "      <td>0.765435</td>\n",
       "      <td>1.062849</td>\n",
       "      <td>2.179131e-01</td>\n",
       "    </tr>\n",
       "    <tr>\n",
       "      <th>cluster_1</th>\n",
       "      <td>0.966283</td>\n",
       "      <td>0.810121</td>\n",
       "      <td>1.152546</td>\n",
       "      <td>7.029302e-01</td>\n",
       "    </tr>\n",
       "    <tr>\n",
       "      <th>cluster_2</th>\n",
       "      <td>0.827668</td>\n",
       "      <td>0.668702</td>\n",
       "      <td>1.024424</td>\n",
       "      <td>8.217482e-02</td>\n",
       "    </tr>\n",
       "    <tr>\n",
       "      <th>cluster_3</th>\n",
       "      <td>0.772833</td>\n",
       "      <td>0.638102</td>\n",
       "      <td>0.936012</td>\n",
       "      <td>8.375860e-03</td>\n",
       "    </tr>\n",
       "    <tr>\n",
       "      <th>cluster_4</th>\n",
       "      <td>1.655706</td>\n",
       "      <td>0.774426</td>\n",
       "      <td>3.539864</td>\n",
       "      <td>1.933987e-01</td>\n",
       "    </tr>\n",
       "    <tr>\n",
       "      <th>cluster_5</th>\n",
       "      <td>1.036950</td>\n",
       "      <td>0.847602</td>\n",
       "      <td>1.268597</td>\n",
       "      <td>7.243112e-01</td>\n",
       "    </tr>\n",
       "  </tbody>\n",
       "</table>\n",
       "</div>"
      ],
      "text/plain": [
       "                      Coefficient   P-value  Lower CI       Upper CI\n",
       "const                    0.030043  0.012397  0.072805   8.413454e-15\n",
       "WBC_count                0.852898  0.418240  1.739275   6.616414e-01\n",
       "red_blood_cell_count     0.959313  0.824311  1.116425   5.914219e-01\n",
       "haemoglobin_conc         0.799091  0.758790  0.841532   1.989443e-17\n",
       "platelet_count           0.998554  0.997989  0.999119   5.273117e-07\n",
       "lymphocyte_count         1.424428  0.697255  2.909973   3.317437e-01\n",
       "monocyte_count           1.274883  0.616477  2.636478   5.124052e-01\n",
       "neutrophil_count         1.125290  0.551492  2.296093   7.456317e-01\n",
       "eosinophil_count         0.365243  0.170747  0.781286   9.427299e-03\n",
       "basophil_count           0.100293  0.023569  0.426772   1.855639e-03\n",
       "nucleated_rbc_count      0.006899  0.000074  0.646812   3.171106e-02\n",
       "reticulocyte_count       1.622344  0.845379  3.113399   1.456943e-01\n",
       "mean_cell_volume         0.997569  0.990513  1.004675   5.015309e-01\n",
       "BMI                      1.005214  0.998212  1.012265   1.447658e-01\n",
       "Smoke_pack_years         1.028778  1.027121  1.030438  1.031180e-260\n",
       "Sex                      1.716039  1.589474  1.852682   2.079986e-43\n",
       "deprivation_score        0.997774  0.995561  0.999991   4.910591e-02\n",
       "Age_recr                 1.068652  1.063900  1.073425  1.914551e-187\n",
       "Smoke_status_2           1.489153  1.326584  1.671643   1.463341e-11\n",
       "Smoke_status_3           1.146456  1.024307  1.283172   1.741737e-02\n",
       "Ethnicity_2              1.007808  0.833516  1.218545   9.360116e-01\n",
       "Ethnicity_3              0.883329  0.749646  1.040852   1.384120e-01\n",
       "Ethnicity_4              1.072942  0.902211  1.275981   4.259178e-01\n",
       "Alcohol_status_2         1.079767  0.933447  1.249023   3.016174e-01\n",
       "Alcohol_status_3         0.901966  0.765435  1.062849   2.179131e-01\n",
       "cluster_1                0.966283  0.810121  1.152546   7.029302e-01\n",
       "cluster_2                0.827668  0.668702  1.024424   8.217482e-02\n",
       "cluster_3                0.772833  0.638102  0.936012   8.375860e-03\n",
       "cluster_4                1.655706  0.774426  3.539864   1.933987e-01\n",
       "cluster_5                1.036950  0.847602  1.268597   7.243112e-01"
      ]
     },
     "execution_count": 71,
     "metadata": {},
     "output_type": "execute_result"
    }
   ],
   "source": [
    "result_df"
   ]
  },
  {
   "cell_type": "code",
   "execution_count": 68,
   "metadata": {},
   "outputs": [],
   "source": [
    "result_df.to_csv('log_results2.csv', index=True)"
   ]
  },
  {
   "cell_type": "code",
   "execution_count": 75,
   "metadata": {},
   "outputs": [
    {
     "data": {
      "text/plain": [
       "Index(['WBC_count', 'red_blood_cell_count', 'haemoglobin_conc',\n",
       "       'platelet_count', 'lymphocyte_count', 'monocyte_count',\n",
       "       'neutrophil_count', 'eosinophil_count', 'basophil_count',\n",
       "       'nucleated_rbc_count', 'reticulocyte_count', 'mean_cell_volume', 'BMI',\n",
       "       'Smoke_pack_years', 'Sex', 'deprivation_score', 'Age_recr',\n",
       "       'case_status', 'Smoke_status_2', 'Smoke_status_3', 'Ethnicity_2',\n",
       "       'Ethnicity_3', 'Ethnicity_4', 'Alcohol_status_2', 'Alcohol_status_3',\n",
       "       'cluster_1', 'cluster_2', 'cluster_3', 'cluster_4', 'cluster_5'],\n",
       "      dtype='object')"
      ]
     },
     "execution_count": 75,
     "metadata": {},
     "output_type": "execute_result"
    }
   ],
   "source": [
    "#figure out which hot encoded variables are what\n",
    "df_logistic.columns"
   ]
  },
  {
   "cell_type": "code",
   "execution_count": 79,
   "metadata": {},
   "outputs": [
    {
     "data": {
      "text/plain": [
       "0    38329\n",
       "1    37059\n",
       "Name: Sex, dtype: int64"
      ]
     },
     "execution_count": 79,
     "metadata": {},
     "output_type": "execute_result"
    }
   ],
   "source": [
    "df_logistic[\"Sex\"].value_counts()"
   ]
  },
  {
   "cell_type": "code",
   "execution_count": 81,
   "metadata": {},
   "outputs": [
    {
     "data": {
      "text/plain": [
       "0    38329\n",
       "1    37059\n",
       "Name: Sex, dtype: int64"
      ]
     },
     "execution_count": 81,
     "metadata": {},
     "output_type": "execute_result"
    }
   ],
   "source": [
    "df1[\"Sex\"].value_counts()"
   ]
  },
  {
   "cell_type": "code",
   "execution_count": 80,
   "metadata": {},
   "outputs": [
    {
     "data": {
      "text/plain": [
       "1    41685\n",
       "0    33703\n",
       "Name: Smoke_status_2, dtype: int64"
      ]
     },
     "execution_count": 80,
     "metadata": {},
     "output_type": "execute_result"
    }
   ],
   "source": [
    "df_logistic[\"Smoke_status_2\"].value_counts()"
   ]
  },
  {
   "cell_type": "code",
   "execution_count": null,
   "metadata": {},
   "outputs": [],
   "source": []
  }
 ],
 "metadata": {
  "kernelspec": {
   "display_name": "Python3.9 (test1)",
   "language": "python",
   "name": "python39_test1"
  },
  "language_info": {
   "codemirror_mode": {
    "name": "ipython",
    "version": 3
   },
   "file_extension": ".py",
   "mimetype": "text/x-python",
   "name": "python",
   "nbconvert_exporter": "python",
   "pygments_lexer": "ipython3",
   "version": "3.9.16"
  }
 },
 "nbformat": 4,
 "nbformat_minor": 2
}
